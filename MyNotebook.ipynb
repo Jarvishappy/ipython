{
 "cells": [
  {
   "cell_type": "code",
   "execution_count": 5,
   "metadata": {
    "collapsed": false,
    "scrolled": true
   },
   "outputs": [
    {
     "ename": "ImportError",
     "evalue": "No module named matplotlib.pyplot",
     "output_type": "error",
     "traceback": [
      "\u001b[0;31m---------------------------------------------------------------------------\u001b[0m",
      "\u001b[0;31mImportError\u001b[0m                               Traceback (most recent call last)",
      "\u001b[0;32m<ipython-input-5-bbf57178dfb9>\u001b[0m in \u001b[0;36m<module>\u001b[0;34m()\u001b[0m\n\u001b[1;32m      1\u001b[0m \u001b[0;32mfrom\u001b[0m \u001b[0mTkinter\u001b[0m \u001b[0;32mimport\u001b[0m \u001b[0;34m*\u001b[0m\u001b[0;34m\u001b[0m\u001b[0m\n\u001b[1;32m      2\u001b[0m \u001b[0;32mimport\u001b[0m \u001b[0mttk\u001b[0m\u001b[0;34m\u001b[0m\u001b[0m\n\u001b[0;32m----> 3\u001b[0;31m \u001b[0;32mimport\u001b[0m \u001b[0mmatplotlib\u001b[0m\u001b[0;34m.\u001b[0m\u001b[0mpyplot\u001b[0m \u001b[0;32mas\u001b[0m \u001b[0mplt\u001b[0m\u001b[0;34m\u001b[0m\u001b[0m\n\u001b[0m\u001b[1;32m      4\u001b[0m \u001b[0;32mimport\u001b[0m \u001b[0mmatplotlib\u001b[0m\u001b[0;34m.\u001b[0m\u001b[0manimation\u001b[0m \u001b[0;32mas\u001b[0m \u001b[0manimation\u001b[0m\u001b[0;34m\u001b[0m\u001b[0m\n\u001b[1;32m      5\u001b[0m \u001b[0;34m\u001b[0m\u001b[0m\n",
      "\u001b[0;31mImportError\u001b[0m: No module named matplotlib.pyplot"
     ]
    }
   ],
   "source": [
    "from Tkinter import *\n",
    "import ttk\n",
    "import matplotlib.pyplot as plt\n",
    "import matplotlib.animation as animation\n",
    "\n",
    "\n",
    "class GUIDemo(Frame):\n",
    "    root = Tk()\n",
    "    fig = None\n",
    "    ax1 = None\n",
    "\n",
    "    def __init__(self, master=None):\n",
    "        Frame.__init__(self, master)\n",
    "        #self.pack()\n",
    "        self.content = ttk.Frame(self.root, padding=(3, 3, 12, 12))\n",
    "        self.frame = ttk.Frame(self.content, borderwidth=5, relief=\"sunken\", width=200, height=100)\n",
    "        self.namelbl = ttk.Label(self.content, text=\"Name\")\n",
    "        self.name = ttk.Entry(self.content)\n",
    "        self.onevar = BooleanVar()\n",
    "        self.twovar = BooleanVar()\n",
    "        self.threevar = BooleanVar()\n",
    "        self.countryvar = StringVar()\n",
    "\n",
    "    def createWidgets(self):\n",
    "        self.one = ttk.Checkbutton(self.content, text=\"One\", variable=self.onevar, onvalue=True, offvalue=False)\n",
    "        self.two = ttk.Checkbutton(self.content, text=\"Two\", variable=self.twovar, onvalue=True, offvalue=False)\n",
    "        self.three = ttk.Checkbutton(self.content, text=\"Three\", variable=self.threevar, onvalue=True, offvalue=False)\n",
    "        self.ok = ttk.Button(self.content, text=\"Okay\", command=self.graph)\n",
    "        self.cancel = ttk.Button(self.content,  text=\"Cancel\")\n",
    "        self.content.grid(column=0, row=0, sticky=(N, S, E, W))\n",
    "        self.frame.grid(column=2, row=0, columnspan=3, rowspan=2, sticky=(N, S, E, W))\n",
    "        self.namelbl.grid(column=0, row=0, columnspan=2, sticky=W, padx=5)\n",
    "        self.name.grid(column=0, row=1, columnspan=2, sticky=(N, S, E, W), pady=5, padx=5)\n",
    "        self.one.grid(column=2, row=3)\n",
    "        self.two.grid(column=3, row=3)\n",
    "        self.three.grid(column=4, row=3)\n",
    "        self.ok.grid(column=0, row=3)\n",
    "        self.cancel.grid(column=1, row=3)\n",
    "        self.menu = ttk.Combobox(self.content, textvariable=self.countryvar)\n",
    "        self.menu.grid(column=0, row=4, columnspan=4, sticky=(N, S, E, W), pady=5, padx=5)\n",
    "        self.menu['values']=('USA', 'UK', 'CAN')\n",
    "        self.root.columnconfigure(0, weight=1)\n",
    "        self.root.rowconfigure(0, weight=1)\n",
    "        self.name.columnconfigure(0, weight=1)\n",
    "        self.name.rowconfigure(0, weight=1)\n",
    "        self.menu.columnconfigure(0, weight=1)\n",
    "        self.menu.rowconfigure(0, weight=1)\n",
    "        self.content.columnconfigure(0, weight=3)\n",
    "        self.content.columnconfigure(1, weight=3)\n",
    "        self.content.columnconfigure(2, weight=3)\n",
    "        self.content.columnconfigure(3, weight=1)\n",
    "        self.content.columnconfigure(4, weight=1)\n",
    "        self.content.rowconfigure(1, weight=1)\n",
    "\n",
    "    def printhello(self):\n",
    "        if self.menu.get() == 'USA':\n",
    "            print \"hello\"\n",
    "\n",
    "    def graph(self):\n",
    "        self.menu.bind('USA', self.printhello())\n",
    "        #self.printhello()\n",
    "        if self.onevar.get():\n",
    "            print '1'\n",
    "        if self.twovar.get():\n",
    "            print '2'\n",
    "        if self.threevar.get():\n",
    "            print '3'\n",
    "        self.fig = plt.figure()\n",
    "        self.ax1 = self.fig.add_subplot(1,1,1)\n",
    "        ani = animation.FuncAnimation(self.fig, self.animate, interval=1000)\n",
    "        plt.show()\n",
    "        #print 'hi'\n",
    "        print 'bye'\n",
    "    def animate(self,i):\n",
    "        pullData = open(\"sampleText.txt\",\"r\").read()\n",
    "        dataArray = pullData.split('\\n')\n",
    "        xar = []\n",
    "        yar = []\n",
    "        for eachLine in dataArray:\n",
    "            if len(eachLine)>1:\n",
    "                x,y = eachLine.split(',')\n",
    "                xar.append(int(x))\n",
    "                yar.append(int(y))\n",
    "        self.ax1.clear()\n",
    "        self.ax1.plot(xar,yar)\n",
    "\n",
    "if __name__ == \"__main__\":\n",
    "    app = GUIDemo(None)\n",
    "    app.createWidgets()\n",
    "    app.master.title('my application')\n",
    "    if app.onevar:\n",
    "        print \"ok\"\n",
    "    app.mainloop()\n"
   ]
  },
  {
   "cell_type": "code",
   "execution_count": 3,
   "metadata": {
    "collapsed": false
   },
   "outputs": [
    {
     "data": {
      "text/html": [
       "<script>\n",
       "code_show=true; \n",
       "function code_toggle() {\n",
       " if (code_show){\n",
       " $('div.input').hide();\n",
       " } else {\n",
       " $('div.input').show();\n",
       " }\n",
       " code_show = !code_show\n",
       "} \n",
       "$( document ).ready(code_toggle);\n",
       "</script>\n",
       "<form action=\"javascript:code_toggle()\"><input type=\"submit\" value=\"Click here to toggle on/off the raw code.\"></form>"
      ],
      "text/plain": [
       "<IPython.core.display.HTML object>"
      ]
     },
     "execution_count": 3,
     "metadata": {},
     "output_type": "execute_result"
    }
   ],
   "source": [
    "from IPython.display import HTML\n",
    "\n",
    "HTML('''<script>\n",
    "code_show=true; \n",
    "function code_toggle() {\n",
    " if (code_show){\n",
    " $('div.input').hide();\n",
    " } else {\n",
    " $('div.input').show();\n",
    " }\n",
    " code_show = !code_show\n",
    "} \n",
    "$( document ).ready(code_toggle);\n",
    "</script>\n",
    "<form action=\"javascript:code_toggle()\"><input type=\"submit\" value=\"Click here to toggle on/off the raw code.\"></form>''')"
   ]
  }
 ],
 "metadata": {
  "kernelspec": {
   "display_name": "Python 2",
   "language": "python",
   "name": "python2"
  },
  "language_info": {
   "codemirror_mode": {
    "name": "ipython",
    "version": 2
   },
   "file_extension": ".py",
   "mimetype": "text/x-python",
   "name": "python",
   "nbconvert_exporter": "python",
   "pygments_lexer": "ipython2",
   "version": "2.7.9"
  }
 },
 "nbformat": 4,
 "nbformat_minor": 0
}
